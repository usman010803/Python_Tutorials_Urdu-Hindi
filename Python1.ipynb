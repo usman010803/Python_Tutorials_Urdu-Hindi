{
 "cells": [
  {
   "cell_type": "markdown",
   "id": "e037e748",
   "metadata": {},
   "source": [
    "### Created By: Muhammad Usman\n",
    "### Dated: 20 June' 2023"
   ]
  },
  {
   "cell_type": "markdown",
   "id": "4d065ddc",
   "metadata": {},
   "source": [
    "### Introduction to Python\n",
    "Python is a popular programming language. It is used for:\n",
    "\n",
    "web development (server-side),\n",
    "software development,\n",
    "mathematics,\n",
    "system scripting.\n",
    "\n",
    "### What can Python do?\n",
    "Python can be used on a server to create web applications.\n",
    "Python can be used alongside software to create workflows.\n",
    "Python can connect to database systems. It can also read and modify files.\n",
    "Python can be used to handle big data and perform complex mathematics.\n",
    "\n",
    "### Why Python?\n",
    "Python works on different platforms (Windows, Mac, Linux, Raspberry Pi, etc).\n",
    "Python has a simple syntax similar to the English language.\n",
    "Python has syntax that allows developers to write programs with fewer lines than some other programming languages.\n",
    "Python runs on an interpreter system, meaning that code can be executed as soon as it is written. This means that prototyping can be very quick."
   ]
  },
  {
   "cell_type": "code",
   "execution_count": 1,
   "id": "5cb9bf64",
   "metadata": {},
   "outputs": [],
   "source": [
    "#python --version"
   ]
  },
  {
   "cell_type": "markdown",
   "id": "da2241b3",
   "metadata": {},
   "source": [
    "### PIP\n",
    "PIP is a package management system used to install and manage software packages/libraries written in Python. These files are stored in a large “online repository” termed as Python Package Index (PyPI). pip uses PyPI as the default source for packages and their dependencies."
   ]
  },
  {
   "cell_type": "markdown",
   "id": "4eb48295",
   "metadata": {},
   "source": [
    "### IDE\n",
    "1. Anaconda -> https://www.anaconda.com/download\n",
    "    1. JupyterLab -> pip install jupyterlab\n",
    "    2. Jupyter notebook -> pip install notebook\n",
    "    \n",
    "2. PyCharm -> https://www.jetbrains.com/help/pycharm/installation-guide.html"
   ]
  },
  {
   "cell_type": "markdown",
   "id": "d6f348b3",
   "metadata": {},
   "source": [
    "# Getting Started\n",
    "### Today Topics\n",
    "1. Variables\n",
    "2. Comments\n",
    "3. Datatypes\n",
    "4. Numbers \n",
    "5. casting"
   ]
  },
  {
   "cell_type": "code",
   "execution_count": 2,
   "id": "95e65320",
   "metadata": {},
   "outputs": [
    {
     "data": {
      "text/plain": [
       "'usman'"
      ]
     },
     "execution_count": 2,
     "metadata": {},
     "output_type": "execute_result"
    }
   ],
   "source": [
    "x = 5\n",
    "name = \"usman\"\n",
    "name = 'usman'\n",
    "name"
   ]
  },
  {
   "cell_type": "code",
   "execution_count": 3,
   "id": "983fdedb",
   "metadata": {},
   "outputs": [],
   "source": [
    "x2 = 6"
   ]
  },
  {
   "cell_type": "code",
   "execution_count": 4,
   "id": "a3c0d1e6",
   "metadata": {},
   "outputs": [
    {
     "data": {
      "text/plain": [
       "6"
      ]
     },
     "execution_count": 4,
     "metadata": {},
     "output_type": "execute_result"
    }
   ],
   "source": [
    "x2"
   ]
  },
  {
   "cell_type": "code",
   "execution_count": 5,
   "id": "f42fe7c7",
   "metadata": {},
   "outputs": [],
   "source": [
    "usman = 10"
   ]
  },
  {
   "cell_type": "code",
   "execution_count": 6,
   "id": "618d85c1",
   "metadata": {},
   "outputs": [
    {
     "data": {
      "text/plain": [
       "10"
      ]
     },
     "execution_count": 6,
     "metadata": {},
     "output_type": "execute_result"
    }
   ],
   "source": [
    "usman"
   ]
  },
  {
   "cell_type": "code",
   "execution_count": 7,
   "id": "64b7a364",
   "metadata": {},
   "outputs": [],
   "source": [
    "us_man = 10"
   ]
  },
  {
   "cell_type": "code",
   "execution_count": 8,
   "id": "f7521435",
   "metadata": {},
   "outputs": [
    {
     "data": {
      "text/plain": [
       "'usman'"
      ]
     },
     "execution_count": 8,
     "metadata": {},
     "output_type": "execute_result"
    }
   ],
   "source": [
    "# my name is usman\n",
    "\n",
    "MyName = 'usman'\n",
    "MyName"
   ]
  },
  {
   "cell_type": "code",
   "execution_count": 9,
   "id": "454c3cd9",
   "metadata": {},
   "outputs": [
    {
     "data": {
      "text/plain": [
       "'usman'"
      ]
     },
     "execution_count": 9,
     "metadata": {},
     "output_type": "execute_result"
    }
   ],
   "source": [
    "name"
   ]
  },
  {
   "cell_type": "code",
   "execution_count": 10,
   "id": "753fab9f",
   "metadata": {},
   "outputs": [],
   "source": [
    "name_1 = 12"
   ]
  },
  {
   "cell_type": "code",
   "execution_count": 11,
   "id": "8d285daf",
   "metadata": {},
   "outputs": [
    {
     "data": {
      "text/plain": [
       "12"
      ]
     },
     "execution_count": 11,
     "metadata": {},
     "output_type": "execute_result"
    }
   ],
   "source": [
    "name_1"
   ]
  },
  {
   "cell_type": "code",
   "execution_count": 12,
   "id": "896eb243",
   "metadata": {},
   "outputs": [
    {
     "data": {
      "text/plain": [
       "'Introduction to Python\\nPython is a popular programming language. It is used for:\\n\\nweb development (server-side), software development, mathematics, system scripting.\\n\\nWhat can Python do?\\nPython can be used on a server to create web applications. Python can be used alongside software to create workflows. Python can connect to database systems. It can also read and modify files. Python can be used to handle big data and perform complex mathematics.\\n\\nWhy Python?\\nPython works on different platforms (Windows, Mac, Linux, Raspberry Pi, etc). Python has a simple syntax similar to the English language. Python has syntax that allows developers to write programs with fewer lines than some other programming languages. Python runs on an interpreter system, meaning that code can be executed as soon as it is written. This means that prototyping can be very quick.'"
      ]
     },
     "execution_count": 12,
     "metadata": {},
     "output_type": "execute_result"
    }
   ],
   "source": [
    "\"\"\"Introduction to Python\n",
    "Python is a popular programming language. It is used for:\n",
    "\n",
    "web development (server-side), software development, mathematics, system scripting.\n",
    "\n",
    "What can Python do?\n",
    "Python can be used on a server to create web applications. Python can be used alongside software to create workflows. Python can connect to database systems. It can also read and modify files. Python can be used to handle big data and perform complex mathematics.\n",
    "\n",
    "Why Python?\n",
    "Python works on different platforms (Windows, Mac, Linux, Raspberry Pi, etc). Python has a simple syntax similar to the English language. Python has syntax that allows developers to write programs with fewer lines than some other programming languages. Python runs on an interpreter system, meaning that code can be executed as soon as it is written. This means that prototyping can be very quick.\"\"\""
   ]
  },
  {
   "cell_type": "code",
   "execution_count": 13,
   "id": "c481258d",
   "metadata": {},
   "outputs": [
    {
     "data": {
      "text/plain": [
       "'Introduction to Python\\nPython is a popular programming language. It is used for:\\n\\nweb development (server-side), software development, mathematics, system scripting.\\n\\nWhat can Python do?\\nPython can be used on a server to create web applications. Python can be used alongside software to create workflows. Python can connect to database systems. It can also read and modify files. Python can be used to handle big data and perform complex mathematics.\\n\\nWhy Python?\\nPython works on different platforms (Windows, Mac, Linux, Raspberry Pi, etc). Python has a simple syntax similar to the English language. Python has syntax that allows developers to write programs with fewer lines than some other programming languages. Python runs on an interpreter system, meaning that code can be executed as soon as it is written. This means that prototyping can be very quick.'"
      ]
     },
     "execution_count": 13,
     "metadata": {},
     "output_type": "execute_result"
    }
   ],
   "source": [
    "'''Introduction to Python\n",
    "Python is a popular programming language. It is used for:\n",
    "\n",
    "web development (server-side), software development, mathematics, system scripting.\n",
    "\n",
    "What can Python do?\n",
    "Python can be used on a server to create web applications. Python can be used alongside software to create workflows. Python can connect to database systems. It can also read and modify files. Python can be used to handle big data and perform complex mathematics.\n",
    "\n",
    "Why Python?\n",
    "Python works on different platforms (Windows, Mac, Linux, Raspberry Pi, etc). Python has a simple syntax similar to the English language. Python has syntax that allows developers to write programs with fewer lines than some other programming languages. Python runs on an interpreter system, meaning that code can be executed as soon as it is written. This means that prototyping can be very quick.'''"
   ]
  },
  {
   "cell_type": "markdown",
   "id": "d84d1683",
   "metadata": {},
   "source": [
    "## Built in datatypes"
   ]
  },
  {
   "cell_type": "code",
   "execution_count": 14,
   "id": "bd609673",
   "metadata": {},
   "outputs": [
    {
     "data": {
      "text/plain": [
       "'usman'"
      ]
     },
     "execution_count": 14,
     "metadata": {},
     "output_type": "execute_result"
    }
   ],
   "source": [
    "# txt type\n",
    "\"usman\""
   ]
  },
  {
   "cell_type": "code",
   "execution_count": 15,
   "id": "0ba71b1a",
   "metadata": {},
   "outputs": [
    {
     "data": {
      "text/plain": [
       "str"
      ]
     },
     "execution_count": 15,
     "metadata": {},
     "output_type": "execute_result"
    }
   ],
   "source": [
    "name = \"us mandjcsekdehek.sdfnse\"\n",
    "type(name)"
   ]
  },
  {
   "cell_type": "code",
   "execution_count": 16,
   "id": "f96bceb3",
   "metadata": {},
   "outputs": [
    {
     "data": {
      "text/plain": [
       "'us mandjcsekdehek.sdfnse'"
      ]
     },
     "execution_count": 16,
     "metadata": {},
     "output_type": "execute_result"
    }
   ],
   "source": [
    "name"
   ]
  },
  {
   "cell_type": "code",
   "execution_count": 17,
   "id": "73ccf975",
   "metadata": {},
   "outputs": [
    {
     "name": "stdout",
     "output_type": "stream",
     "text": [
      "<class 'int'>\n",
      "<class 'float'>\n",
      "<class 'complex'>\n"
     ]
    }
   ],
   "source": [
    "#Numeric\n",
    "\n",
    "x = 100000\n",
    "y = 1.12\n",
    "z = 1 + 5j\n",
    "\n",
    "print(type(x))\n",
    "print(type(y))\n",
    "print(type(z))"
   ]
  },
  {
   "cell_type": "code",
   "execution_count": 18,
   "id": "5a87fb00",
   "metadata": {},
   "outputs": [
    {
     "data": {
      "text/plain": [
       "list"
      ]
     },
     "execution_count": 18,
     "metadata": {},
     "output_type": "execute_result"
    }
   ],
   "source": [
    "# sequences\n",
    "list = [12,3,5,\"usman\", True]\n",
    "tuple = (12,3,\"usmam\", True)\n",
    "type(list)"
   ]
  },
  {
   "cell_type": "code",
   "execution_count": 19,
   "id": "bc650a14",
   "metadata": {},
   "outputs": [
    {
     "data": {
      "text/plain": [
       "dict"
      ]
     },
     "execution_count": 19,
     "metadata": {},
     "output_type": "execute_result"
    }
   ],
   "source": [
    "dict = {\"name\": \"usman\", \"age\":20}\n",
    "type(dict)"
   ]
  },
  {
   "cell_type": "code",
   "execution_count": 20,
   "id": "1fa28df2",
   "metadata": {},
   "outputs": [],
   "source": [
    "x = True"
   ]
  },
  {
   "cell_type": "code",
   "execution_count": 21,
   "id": "3034139c",
   "metadata": {},
   "outputs": [],
   "source": [
    "x = False"
   ]
  },
  {
   "cell_type": "code",
   "execution_count": 22,
   "id": "d73f8930",
   "metadata": {},
   "outputs": [
    {
     "data": {
      "text/plain": [
       "bool"
      ]
     },
     "execution_count": 22,
     "metadata": {},
     "output_type": "execute_result"
    }
   ],
   "source": [
    "type(x)"
   ]
  },
  {
   "cell_type": "markdown",
   "id": "34a9f984",
   "metadata": {},
   "source": [
    "### TypeCasting"
   ]
  },
  {
   "cell_type": "code",
   "execution_count": 23,
   "id": "810b3990",
   "metadata": {},
   "outputs": [],
   "source": [
    "x = 10\n",
    "y = 1.5\n",
    "z = 1+4j"
   ]
  },
  {
   "cell_type": "code",
   "execution_count": 24,
   "id": "805fe130",
   "metadata": {},
   "outputs": [],
   "source": [
    "x1 = float(x)"
   ]
  },
  {
   "cell_type": "code",
   "execution_count": 25,
   "id": "5a314963",
   "metadata": {},
   "outputs": [
    {
     "data": {
      "text/plain": [
       "10.0"
      ]
     },
     "execution_count": 25,
     "metadata": {},
     "output_type": "execute_result"
    }
   ],
   "source": [
    "x1"
   ]
  },
  {
   "cell_type": "code",
   "execution_count": 26,
   "id": "e5dfb516",
   "metadata": {},
   "outputs": [
    {
     "data": {
      "text/plain": [
       "float"
      ]
     },
     "execution_count": 26,
     "metadata": {},
     "output_type": "execute_result"
    }
   ],
   "source": [
    "type(x1)"
   ]
  },
  {
   "cell_type": "code",
   "execution_count": 27,
   "id": "08f86e5d",
   "metadata": {},
   "outputs": [],
   "source": [
    "y2 = int(y)"
   ]
  },
  {
   "cell_type": "code",
   "execution_count": 28,
   "id": "730b2f2f",
   "metadata": {},
   "outputs": [
    {
     "data": {
      "text/plain": [
       "int"
      ]
     },
     "execution_count": 28,
     "metadata": {},
     "output_type": "execute_result"
    }
   ],
   "source": [
    "type(y2)"
   ]
  },
  {
   "cell_type": "code",
   "execution_count": 29,
   "id": "df7b09fc",
   "metadata": {},
   "outputs": [
    {
     "data": {
      "text/plain": [
       "1"
      ]
     },
     "execution_count": 29,
     "metadata": {},
     "output_type": "execute_result"
    }
   ],
   "source": [
    "y2"
   ]
  },
  {
   "cell_type": "code",
   "execution_count": 30,
   "id": "7dc8813c",
   "metadata": {},
   "outputs": [],
   "source": [
    "y3 = str(y)"
   ]
  },
  {
   "cell_type": "code",
   "execution_count": 31,
   "id": "71379d64",
   "metadata": {},
   "outputs": [
    {
     "data": {
      "text/plain": [
       "'1.5'"
      ]
     },
     "execution_count": 31,
     "metadata": {},
     "output_type": "execute_result"
    }
   ],
   "source": [
    "y3"
   ]
  },
  {
   "cell_type": "code",
   "execution_count": 32,
   "id": "868beccc",
   "metadata": {},
   "outputs": [
    {
     "data": {
      "text/plain": [
       "str"
      ]
     },
     "execution_count": 32,
     "metadata": {},
     "output_type": "execute_result"
    }
   ],
   "source": [
    "type(y3)"
   ]
  },
  {
   "cell_type": "code",
   "execution_count": 33,
   "id": "6808dc95",
   "metadata": {},
   "outputs": [],
   "source": [
    "z2 = str(z)"
   ]
  },
  {
   "cell_type": "code",
   "execution_count": 34,
   "id": "f9c339e9",
   "metadata": {},
   "outputs": [
    {
     "data": {
      "text/plain": [
       "'(1+4j)'"
      ]
     },
     "execution_count": 34,
     "metadata": {},
     "output_type": "execute_result"
    }
   ],
   "source": [
    "z2"
   ]
  },
  {
   "cell_type": "code",
   "execution_count": 35,
   "id": "8e944c7a",
   "metadata": {},
   "outputs": [
    {
     "data": {
      "text/plain": [
       "str"
      ]
     },
     "execution_count": 35,
     "metadata": {},
     "output_type": "execute_result"
    }
   ],
   "source": [
    "type(z2)"
   ]
  },
  {
   "cell_type": "code",
   "execution_count": 36,
   "id": "e5e1acd4",
   "metadata": {},
   "outputs": [
    {
     "name": "stdout",
     "output_type": "stream",
     "text": [
      "Enter your age20\n"
     ]
    }
   ],
   "source": [
    "x = int(input(\"Enter your age\"))"
   ]
  },
  {
   "cell_type": "code",
   "execution_count": 37,
   "id": "ffb99616",
   "metadata": {},
   "outputs": [
    {
     "data": {
      "text/plain": [
       "20"
      ]
     },
     "execution_count": 37,
     "metadata": {},
     "output_type": "execute_result"
    }
   ],
   "source": [
    "x"
   ]
  },
  {
   "cell_type": "code",
   "execution_count": 38,
   "id": "eb8365e3",
   "metadata": {},
   "outputs": [
    {
     "data": {
      "text/plain": [
       "int"
      ]
     },
     "execution_count": 38,
     "metadata": {},
     "output_type": "execute_result"
    }
   ],
   "source": [
    "type(x)"
   ]
  },
  {
   "cell_type": "code",
   "execution_count": null,
   "id": "253979c9",
   "metadata": {},
   "outputs": [],
   "source": []
  },
  {
   "cell_type": "code",
   "execution_count": null,
   "id": "f9f1867f",
   "metadata": {},
   "outputs": [],
   "source": []
  }
 ],
 "metadata": {
  "kernelspec": {
   "display_name": "Python 3 (ipykernel)",
   "language": "python",
   "name": "python3"
  },
  "language_info": {
   "codemirror_mode": {
    "name": "ipython",
    "version": 3
   },
   "file_extension": ".py",
   "mimetype": "text/x-python",
   "name": "python",
   "nbconvert_exporter": "python",
   "pygments_lexer": "ipython3",
   "version": "3.10.9"
  }
 },
 "nbformat": 4,
 "nbformat_minor": 5
}
